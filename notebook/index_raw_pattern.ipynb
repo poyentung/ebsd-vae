{
 "cells": [
  {
   "cell_type": "code",
   "execution_count": 2,
   "metadata": {},
   "outputs": [],
   "source": [
    "%load_ext autoreload\n",
    "%autoreload 2\n",
    "%cd ..\n",
    "\n",
    "import numpy as np\n",
    "from pathlib import Path\n",
    "import logging\n",
    "from latice.index.chroma_db import (\n",
    "    ChromaLatentVectorDatabaseConfig,\n",
    "    ChromaLatentVectorDatabase,\n",
    ")\n",
    "from latice.index.raw_dp_indexer import RawDiffractionPatternIndexer, RawIndexerConfig\n",
    "\n",
    "logging.basicConfig(\n",
    "    level=logging.INFO, format=\"%(asctime)s - %(name)s - %(levelname)s - %(message)s\"\n",
    ")"
   ]
  },
  {
   "cell_type": "code",
   "execution_count": 3,
   "metadata": {},
   "outputs": [
    {
     "name": "stdout",
     "output_type": "stream",
     "text": [
      "Raw pattern dimension: 16384\n"
     ]
    }
   ],
   "source": [
    "pattern_path = Path(\"data/N=100_noised.npy\")\n",
    "angles_path = Path(\"data/anglefile_N=100.txt\")\n",
    "\n",
    "batch_size = 32\n",
    "random_seed = 42\n",
    "image_size = (128, 128)\n",
    "top_n = 10\n",
    "orientation_threshold = 3.0\n",
    "\n",
    "raw_dimension = image_size[0] * image_size[1]\n",
    "print(f\"Raw pattern dimension: {raw_dimension}\")"
   ]
  },
  {
   "cell_type": "code",
   "execution_count": 4,
   "metadata": {},
   "outputs": [
    {
     "name": "stderr",
     "output_type": "stream",
     "text": [
      "2025-04-26 23:17:35,963 - chromadb.telemetry.product.posthog - INFO - Anonymized telemetry enabled. See                     https://docs.trychroma.com/telemetry for more information.\n",
      "2025-04-26 23:17:36,054 - latice.index.chroma_db - INFO - Created persistent ChromaDB at notebook/.chroma_db_raw\n",
      "2025-04-26 23:17:36,056 - latice.index.chroma_db - INFO - Retrieved existing collection 'latent_vectors'\n"
     ]
    }
   ],
   "source": [
    "chroma_raw_db_config = ChromaLatentVectorDatabaseConfig(\n",
    "    persist_directory=\"notebook/.chroma_db_raw\", dimension=raw_dimension, add_batch_size=300\n",
    ")\n",
    "chroma_raw_db = ChromaLatentVectorDatabase(config=chroma_raw_db_config)"
   ]
  },
  {
   "cell_type": "code",
   "execution_count": 5,
   "metadata": {},
   "outputs": [
    {
     "name": "stderr",
     "output_type": "stream",
     "text": [
      "2025-04-26 23:17:36,065 - latice.index.raw_dp_indexer - INFO - Using provided ChromaLatentVectorDatabase instance.\n",
      "2025-04-26 23:17:36,066 - latice.index.raw_dp_indexer - INFO - Raw index dimensionality: 16384\n"
     ]
    }
   ],
   "source": [
    "raw_indexer_config = RawIndexerConfig(\n",
    "    pattern_path=pattern_path,\n",
    "    angles_path=angles_path,\n",
    "    batch_size=batch_size,\n",
    "    random_seed=random_seed,\n",
    "    image_size=image_size,\n",
    "    top_n=top_n,\n",
    "    orientation_threshold=orientation_threshold,\n",
    ")\n",
    "\n",
    "raw_indexer = RawDiffractionPatternIndexer(\n",
    "    config=raw_indexer_config,\n",
    "    db=chroma_raw_db, # Pass the pre-configured DB\n",
    ")"
   ]
  },
  {
   "cell_type": "code",
   "execution_count": 6,
   "metadata": {},
   "outputs": [
    {
     "name": "stderr",
     "output_type": "stream",
     "text": [
      "2025-04-26 12:50:55,313 - latice.index.raw_dp_indexer - INFO - Loading raw patterns from data/N=100_noised.npy using memory map\n",
      "2025-04-26 12:50:55,320 - latice.index.raw_dp_indexer - INFO - Loading orientations from data/anglefile_N=100.txt\n",
      "2025-04-26 12:50:55,789 - latice.index.raw_dp_indexer - INFO - Processing and adding patterns to DB in batches...\n"
     ]
    },
    {
     "data": {
      "application/vnd.jupyter.widget-view+json": {
       "model_id": "fb524bb5ddca4bd8a758590c3e94f6eb",
       "version_major": 2,
       "version_minor": 0
      },
      "text/plain": [
       "Output()"
      ]
     },
     "metadata": {},
     "output_type": "display_data"
    },
    {
     "data": {
      "text/html": [
       "<pre style=\"white-space:pre;overflow-x:auto;line-height:normal;font-family:Menlo,'DejaVu Sans Mono',consolas,'Courier New',monospace\"></pre>\n"
      ],
      "text/plain": []
     },
     "metadata": {},
     "output_type": "display_data"
    },
    {
     "name": "stderr",
     "output_type": "stream",
     "text": [
      "2025-04-26 18:36:39,682 - latice.index.raw_dp_indexer - INFO - Finished adding 333227 patterns to the database. Final DB count: 333227.\n"
     ]
    },
    {
     "name": "stdout",
     "output_type": "stream",
     "text": [
      "Index built successfully with 333227 raw patterns.\n"
     ]
    }
   ],
   "source": [
    "# try:\n",
    "#     raw_indexer.build_dictionary()\n",
    "#     print(f\"Index built successfully with {raw_indexer.db.get_count()} raw patterns.\")\n",
    "# except Exception as e:\n",
    "#     print(f\"Error building dictionary: {e}\")"
   ]
  },
  {
   "cell_type": "code",
   "execution_count": 7,
   "metadata": {},
   "outputs": [
    {
     "data": {
      "application/vnd.jupyter.widget-view+json": {
       "model_id": "4c196538209b4af48dcfdfe0e6d9abe6",
       "version_major": 2,
       "version_minor": 0
      },
      "text/plain": [
       "Output()"
      ]
     },
     "metadata": {},
     "output_type": "display_data"
    },
    {
     "data": {
      "text/html": [
       "<pre style=\"white-space:pre;overflow-x:auto;line-height:normal;font-family:Menlo,'DejaVu Sans Mono',consolas,'Courier New',monospace\"></pre>\n"
      ],
      "text/plain": []
     },
     "metadata": {},
     "output_type": "display_data"
    },
    {
     "name": "stdout",
     "output_type": "stream",
     "text": [
      "Indexed 5 patterns in 90.1886 seconds\n",
      "Average time per pattern: 18.0377 seconds\n"
     ]
    }
   ],
   "source": [
    "import time\n",
    "\n",
    "batch_patterns_np = np.load(\"data/sample_pattern.npy\")[:5]\n",
    "\n",
    "start_time = time.time()\n",
    "orientation_results_batch = raw_indexer.index_patterns_batch(\n",
    "    batch_patterns_np, top_n=1, orientation_threshold=3.0\n",
    ")\n",
    "end_time = time.time()\n",
    "\n",
    "print(\n",
    "    f\"Indexed {len(batch_patterns_np)} patterns in {end_time - start_time:.4f} seconds\"\n",
    ")\n",
    "print(\n",
    "    f\"Average time per pattern: {(end_time - start_time) / len(batch_patterns_np):.4f} seconds\"\n",
    ")\n"
   ]
  },
  {
   "cell_type": "code",
   "execution_count": 7,
   "metadata": {},
   "outputs": [
    {
     "data": {
      "text/plain": [
       "[OrientationResult(query_vector=array([0., 0., 0., ..., 0., 0., 0.], shape=(16384,), dtype=float32), best_orientation=array([ 55.55121033,  58.85677405, 325.55121033]), candidate_orientations=array([[ 55.55121033,  58.85677405, 325.55121033],\n",
       "        [182.57244414,  44.95050913, 133.25720072]]), distances=array([-1.43051147e-06,  1.33022039e-01]), mean_orientation=None, success=False, similar_indices=array([1])),\n",
       " OrientationResult(query_vector=array([0., 0., 0., ..., 0., 0., 0.], shape=(16384,), dtype=float32), best_orientation=array([ 55.05679817,  59.1744195 , 325.05679817]), candidate_orientations=array([[ 55.05679817,  59.1744195 , 325.05679817],\n",
       "        [181.32338764,  44.75745748, 134.31037252]]), distances=array([-1.35898590e-05,  1.43268653e-01]), mean_orientation=None, success=False, similar_indices=array([1])),\n",
       " OrientationResult(query_vector=array([0., 0., 0., ..., 0., 0., 0.], shape=(16384,), dtype=float32), best_orientation=array([ 54.557532  ,  59.47748504, 324.557532  ]), candidate_orientations=array([[ 54.557532  ,  59.47748504, 324.557532  ],\n",
       "        [181.32338764,  44.75745748, 134.31037252]]), distances=array([-9.05990601e-06,  1.52136826e-01]), mean_orientation=None, success=False, similar_indices=array([1])),\n",
       " OrientationResult(query_vector=array([0., 0., 0., ..., 0., 0., 0.], shape=(16384,), dtype=float32), best_orientation=array([ 54.05360558,  59.76571636, 324.05360558]), candidate_orientations=array([[ 54.05360558,  59.76571636, 324.05360558],\n",
       "        [178.67661236,  44.75745748, 225.68962748]]), distances=array([-6.79492950e-06,  1.50646329e-01]), mean_orientation=None, success=False, similar_indices=array([1])),\n",
       " OrientationResult(query_vector=array([0., 0., 0., ..., 0., 0., 0.], shape=(16384,), dtype=float32), best_orientation=array([ 53.54522161,  60.03886888, 323.54522161]), candidate_orientations=array([[ 53.54522161,  60.03886888, 323.54522161],\n",
       "        [178.67661236,  44.75745748, 225.68962748]]), distances=array([-2.86102295e-06,  1.57007635e-01]), mean_orientation=None, success=False, similar_indices=array([1]))]"
      ]
     },
     "execution_count": 7,
     "metadata": {},
     "output_type": "execute_result"
    }
   ],
   "source": [
    "orientation_results_batch"
   ]
  },
  {
   "cell_type": "code",
   "execution_count": null,
   "metadata": {},
   "outputs": [],
   "source": []
  }
 ],
 "metadata": {
  "kernelspec": {
   "display_name": ".venv",
   "language": "python",
   "name": "python3"
  },
  "language_info": {
   "codemirror_mode": {
    "name": "ipython",
    "version": 3
   },
   "file_extension": ".py",
   "mimetype": "text/x-python",
   "name": "python",
   "nbconvert_exporter": "python",
   "pygments_lexer": "ipython3",
   "version": "3.11.9"
  }
 },
 "nbformat": 4,
 "nbformat_minor": 2
}

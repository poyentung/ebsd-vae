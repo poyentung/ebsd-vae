{
 "cells": [
  {
   "cell_type": "code",
   "execution_count": null,
   "metadata": {},
   "outputs": [],
   "source": [
    "cd .."
   ]
  },
  {
   "cell_type": "code",
   "execution_count": 2,
   "metadata": {},
   "outputs": [],
   "source": [
    "import numpy as np\n",
    "from pathlib import Path\n",
    "import logging\n",
    "from latice.index.faiss_db import (\n",
    "    FaissLatentVectorDatabase,\n",
    "    FaissLatentVectorDatabaseConfig,\n",
    ")\n",
    "from latice.index.raw_dp_indexer import RawDiffractionPatternIndexer, RawIndexerConfig\n",
    "\n",
    "logging.basicConfig(\n",
    "    level=logging.INFO, format=\"%(asctime)s - %(name)s - %(levelname)s - %(message)s\"\n",
    ")"
   ]
  },
  {
   "cell_type": "code",
   "execution_count": null,
   "metadata": {},
   "outputs": [],
   "source": [
    "raw_npz_path = \"/Users/andrewtung/Documents/Github/latice/notebook/faiss_raw_index.npz\"\n",
    "pattern_path = Path(\"data/N=100_noised.npy\")\n",
    "angles_path = Path(\"data/anglefile_N=100.txt\")\n",
    "\n",
    "batch_size = 32\n",
    "random_seed = 42\n",
    "image_size = (128, 128)\n",
    "top_n = 10\n",
    "orientation_threshold = 3.0\n",
    "\n",
    "raw_dimension = image_size[0] * image_size[1]\n",
    "print(f\"Raw pattern dimension: {raw_dimension}\")"
   ]
  },
  {
   "cell_type": "code",
   "execution_count": null,
   "metadata": {},
   "outputs": [],
   "source": [
    "faiss_raw_db_config = FaissLatentVectorDatabaseConfig(\n",
    "    npz_path=raw_npz_path, dimension=raw_dimension\n",
    ")\n",
    "faiss_raw_db = FaissLatentVectorDatabase(config=faiss_raw_db_config)"
   ]
  },
  {
   "cell_type": "code",
   "execution_count": null,
   "metadata": {},
   "outputs": [],
   "source": [
    "raw_indexer_config = RawIndexerConfig(\n",
    "    pattern_path=pattern_path,\n",
    "    angles_path=angles_path,\n",
    "    batch_size=batch_size,\n",
    "    random_seed=random_seed,\n",
    "    image_size=image_size,\n",
    "    top_n=top_n,\n",
    "    orientation_threshold=orientation_threshold,\n",
    "    db_path=raw_npz_path # Ensure config uses the correct db path\n",
    ")\n",
    "\n",
    "raw_indexer = RawDiffractionPatternIndexer(\n",
    "    config=raw_indexer_config,\n",
    "    db=faiss_raw_db, # Pass the pre-configured DB\n",
    ")"
   ]
  },
  {
   "cell_type": "code",
   "execution_count": null,
   "metadata": {},
   "outputs": [],
   "source": [
    "# Check if the index needs building by checking the count\n",
    "if raw_indexer.db.get_count() == 0:\n",
    "    print(f\"Building raw FAISS index at {raw_indexer.db.npz_path}...\")\n",
    "    try:\n",
    "        raw_indexer.build_dictionary()\n",
    "        print(f\"Index built successfully with {raw_indexer.db.get_count()} raw patterns.\")\n",
    "    except Exception as e:\n",
    "        print(f\"Error building dictionary: {e}\")\n",
    "        # Depending on the error, you might want to raise it or handle it\n",
    "else:\n",
    "    print(f\"Raw FAISS index already exists at {raw_indexer.db.npz_path} with {raw_indexer.db.get_count()} patterns.\")\n"
   ]
  },
  {
   "cell_type": "code",
   "execution_count": null,
   "metadata": {},
   "outputs": [],
   "source": [
    "batch_patterns_np = np.load(pattern_path)[:5]\n",
    "orientation_results_batch = raw_indexer.index_patterns_batch(\n",
    "    batch_patterns_np, top_n=1, orientation_threshold=3.0\n",
    ")"
   ]
  },
  {
   "cell_type": "code",
   "execution_count": null,
   "metadata": {},
   "outputs": [],
   "source": [
    "orientation_results_batch"
   ]
  }
 ],
 "metadata": {
  "kernelspec": {
   "display_name": ".venv",
   "language": "python",
   "name": "python3"
  },
  "language_info": {
   "codemirror_mode": {
    "name": "ipython",
    "version": 3
   },
   "file_extension": ".py",
   "mimetype": "text/x-python",
   "name": "python",
   "nbconvert_exporter": "python",
   "pygments_lexer": "ipython3",
   "version": "3.11.9"
  }
 },
 "nbformat": 4,
 "nbformat_minor": 2
}

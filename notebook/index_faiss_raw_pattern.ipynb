{
 "cells": [
  {
   "cell_type": "code",
   "execution_count": 1,
   "metadata": {},
   "outputs": [
    {
     "name": "stdout",
     "output_type": "stream",
     "text": [
      "/Users/andrewtung/Documents/Github/latice\n"
     ]
    }
   ],
   "source": [
    "cd .."
   ]
  },
  {
   "cell_type": "code",
   "execution_count": 2,
   "metadata": {},
   "outputs": [],
   "source": [
    "import numpy as np\n",
    "from pathlib import Path\n",
    "import logging\n",
    "from latice.index.faiss_db import (\n",
    "    FaissLatentVectorDatabase,\n",
    "    FaissLatentVectorDatabaseConfig,\n",
    ")\n",
    "from latice.index.raw_dp_indexer import RawDiffractionPatternIndexer, RawIndexerConfig\n",
    "\n",
    "logging.basicConfig(\n",
    "    level=logging.INFO, format=\"%(asctime)s - %(name)s - %(levelname)s - %(message)s\"\n",
    ")"
   ]
  },
  {
   "cell_type": "code",
   "execution_count": 3,
   "metadata": {},
   "outputs": [
    {
     "name": "stdout",
     "output_type": "stream",
     "text": [
      "Raw pattern dimension: 16384\n"
     ]
    }
   ],
   "source": [
    "raw_npz_path = \"/Users/andrewtung/Documents/Github/latice/notebook/faiss_raw_index.npz\"\n",
    "pattern_path = Path(\"data/N=100_noised.npy\")\n",
    "angles_path = Path(\"data/anglefile_N=100.txt\")\n",
    "\n",
    "batch_size = 32\n",
    "random_seed = 42\n",
    "image_size = (128, 128)\n",
    "top_n = 10\n",
    "orientation_threshold = 3.0\n",
    "\n",
    "raw_dimension = image_size[0] * image_size[1]\n",
    "print(f\"Raw pattern dimension: {raw_dimension}\")"
   ]
  },
  {
   "cell_type": "code",
   "execution_count": 4,
   "metadata": {},
   "outputs": [
    {
     "name": "stderr",
     "output_type": "stream",
     "text": [
      "2025-04-25 20:26:47,262 - latice.index.faiss_db - INFO - No existing index found at /Users/andrewtung/Documents/Github/latice/notebook/faiss_raw_index.npz. Creating a new one.\n"
     ]
    }
   ],
   "source": [
    "faiss_raw_db_config = FaissLatentVectorDatabaseConfig(\n",
    "    npz_path=raw_npz_path, dimension=raw_dimension\n",
    ")\n",
    "faiss_raw_db = FaissLatentVectorDatabase(config=faiss_raw_db_config)"
   ]
  },
  {
   "cell_type": "code",
   "execution_count": 5,
   "metadata": {},
   "outputs": [
    {
     "name": "stderr",
     "output_type": "stream",
     "text": [
      "2025-04-25 20:27:19,456 - latice.index.raw_dp_indexer - INFO - Raw index dimensionality: 16384\n",
      "2025-04-25 20:27:19,459 - latice.index.raw_dp_indexer - INFO - Using Faiss database with path: /Users/andrewtung/Documents/Github/latice/notebook/faiss_raw_index.npz\n"
     ]
    }
   ],
   "source": [
    "raw_indexer_config = RawIndexerConfig(\n",
    "    pattern_path=pattern_path,\n",
    "    angles_path=angles_path,\n",
    "    batch_size=batch_size,\n",
    "    random_seed=random_seed,\n",
    "    image_size=image_size,\n",
    "    top_n=top_n,\n",
    "    orientation_threshold=orientation_threshold,\n",
    "    db_path=raw_npz_path # Ensure config uses the correct db path\n",
    ")\n",
    "\n",
    "raw_indexer = RawDiffractionPatternIndexer(\n",
    "    config=raw_indexer_config,\n",
    "    db=faiss_raw_db, # Pass the pre-configured DB\n",
    ")"
   ]
  },
  {
   "cell_type": "code",
   "execution_count": 10,
   "metadata": {},
   "outputs": [
    {
     "name": "stdout",
     "output_type": "stream",
     "text": [
      "Building raw FAISS index at /Users/andrewtung/Documents/Github/latice/notebook/faiss_raw_index.npz...\n"
     ]
    },
    {
     "name": "stderr",
     "output_type": "stream",
     "text": [
      "2025-04-25 20:33:07,595 - latice.index.raw_dp_indexer - INFO - Loading raw patterns from data/anglefile_N=100.txt\n"
     ]
    }
   ],
   "source": [
    "# Check if the index needs building by checking the count\n",
    "if raw_indexer.db.get_count() == 0:\n",
    "    print(f\"Building raw FAISS index at {raw_indexer.db.npz_path}...\")\n",
    "    try:\n",
    "        raw_indexer.build_dictionary()\n",
    "        print(f\"Index built successfully with {raw_indexer.db.get_count()} raw patterns.\")\n",
    "    except Exception as e:\n",
    "        print(f\"Error building dictionary: {e}\")\n",
    "        # Depending on the error, you might want to raise it or handle it\n",
    "else:\n",
    "    print(f\"Raw FAISS index already exists at {raw_indexer.db.npz_path} with {raw_indexer.db.get_count()} patterns.\")\n"
   ]
  },
  {
   "cell_type": "code",
   "execution_count": 9,
   "metadata": {},
   "outputs": [
    {
     "ename": "ValueError",
     "evalue": "This file contains pickled (object) data. If you trust the file you can load it unsafely using the `allow_pickle=` keyword argument or `pickle.load()`.",
     "output_type": "error",
     "traceback": [
      "\u001b[31m---------------------------------------------------------------------------\u001b[39m",
      "\u001b[31mValueError\u001b[39m                                Traceback (most recent call last)",
      "\u001b[36mCell\u001b[39m\u001b[36m \u001b[39m\u001b[32mIn[9]\u001b[39m\u001b[32m, line 1\u001b[39m\n\u001b[32m----> \u001b[39m\u001b[32m1\u001b[39m batch_patterns_np = \u001b[43mnp\u001b[49m\u001b[43m.\u001b[49m\u001b[43mload\u001b[49m\u001b[43m(\u001b[49m\u001b[43mpattern_path\u001b[49m\u001b[43m)\u001b[49m[:\u001b[32m5\u001b[39m]\n\u001b[32m      2\u001b[39m orientation_results_batch = raw_indexer.index_patterns_batch(\n\u001b[32m      3\u001b[39m     batch_patterns_np, top_n=\u001b[32m1\u001b[39m, orientation_threshold=\u001b[32m3.0\u001b[39m\n\u001b[32m      4\u001b[39m )\n",
      "\u001b[36mFile \u001b[39m\u001b[32m~/Documents/Github/latice/.venv/lib/python3.11/site-packages/numpy/lib/_npyio_impl.py:486\u001b[39m, in \u001b[36mload\u001b[39m\u001b[34m(file, mmap_mode, allow_pickle, fix_imports, encoding, max_header_size)\u001b[39m\n\u001b[32m    483\u001b[39m \u001b[38;5;28;01melse\u001b[39;00m:\n\u001b[32m    484\u001b[39m     \u001b[38;5;66;03m# Try a pickle\u001b[39;00m\n\u001b[32m    485\u001b[39m     \u001b[38;5;28;01mif\u001b[39;00m \u001b[38;5;129;01mnot\u001b[39;00m allow_pickle:\n\u001b[32m--> \u001b[39m\u001b[32m486\u001b[39m         \u001b[38;5;28;01mraise\u001b[39;00m \u001b[38;5;167;01mValueError\u001b[39;00m(\n\u001b[32m    487\u001b[39m             \u001b[33m\"\u001b[39m\u001b[33mThis file contains pickled (object) data. If you trust \u001b[39m\u001b[33m\"\u001b[39m\n\u001b[32m    488\u001b[39m             \u001b[33m\"\u001b[39m\u001b[33mthe file you can load it unsafely using the \u001b[39m\u001b[33m\"\u001b[39m\n\u001b[32m    489\u001b[39m             \u001b[33m\"\u001b[39m\u001b[33m`allow_pickle=` keyword argument or `pickle.load()`.\u001b[39m\u001b[33m\"\u001b[39m)\n\u001b[32m    490\u001b[39m     \u001b[38;5;28;01mtry\u001b[39;00m:\n\u001b[32m    491\u001b[39m         \u001b[38;5;28;01mreturn\u001b[39;00m pickle.load(fid, **pickle_kwargs)\n",
      "\u001b[31mValueError\u001b[39m: This file contains pickled (object) data. If you trust the file you can load it unsafely using the `allow_pickle=` keyword argument or `pickle.load()`."
     ]
    }
   ],
   "source": [
    "batch_patterns_np = np.load(pattern_path)[:5]\n",
    "orientation_results_batch = raw_indexer.index_patterns_batch(\n",
    "    batch_patterns_np, top_n=1, orientation_threshold=3.0\n",
    ")"
   ]
  },
  {
   "cell_type": "code",
   "execution_count": 16,
   "metadata": {},
   "outputs": [
    {
     "data": {
      "text/plain": [
       "[OrientationResult(query_vector=array([0., 0., 0., ..., 0., 0., 0.], shape=(16384,)), best_orientation=array([0., 0., 0.]), candidate_orientations=array([[0., 0., 0.]]), distances=array([1.0000004], dtype=float32), mean_orientation=None, success=False, similar_indices=array([0])),\n",
       " OrientationResult(query_vector=array([0., 0., 0., ..., 0., 0., 0.], shape=(16384,)), best_orientation=array([0., 1., 0.]), candidate_orientations=array([[0., 1., 0.]]), distances=array([1.0000002], dtype=float32), mean_orientation=None, success=False, similar_indices=array([0])),\n",
       " OrientationResult(query_vector=array([0., 0., 0., ..., 0., 0., 0.], shape=(16384,)), best_orientation=array([0., 2., 0.]), candidate_orientations=array([[0., 2., 0.]]), distances=array([0.99999976], dtype=float32), mean_orientation=None, success=False, similar_indices=array([0])),\n",
       " OrientationResult(query_vector=array([0., 0., 0., ..., 0., 0., 0.], shape=(16384,)), best_orientation=array([0., 3., 0.]), candidate_orientations=array([[0., 3., 0.]]), distances=array([1.0000001], dtype=float32), mean_orientation=None, success=False, similar_indices=array([0])),\n",
       " OrientationResult(query_vector=array([0., 0., 0., ..., 0., 0., 0.], shape=(16384,)), best_orientation=array([0., 4., 0.]), candidate_orientations=array([[0., 4., 0.]]), distances=array([0.9999999], dtype=float32), mean_orientation=None, success=False, similar_indices=array([0]))]"
      ]
     },
     "execution_count": 16,
     "metadata": {},
     "output_type": "execute_result"
    }
   ],
   "source": [
    "orientation_results_batch"
   ]
  }
 ],
 "metadata": {
  "kernelspec": {
   "display_name": ".venv",
   "language": "python",
   "name": "python3"
  },
  "language_info": {
   "codemirror_mode": {
    "name": "ipython",
    "version": 3
   },
   "file_extension": ".py",
   "mimetype": "text/x-python",
   "name": "python",
   "nbconvert_exporter": "python",
   "pygments_lexer": "ipython3",
   "version": "3.11.9"
  }
 },
 "nbformat": 4,
 "nbformat_minor": 2
}

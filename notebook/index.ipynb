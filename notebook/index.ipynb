{
 "cells": [
  {
   "cell_type": "markdown",
   "metadata": {},
   "source": [
    "# Diffraction Pattern Indexing with VAE\n",
    "\n",
    "This notebook demonstrates how to use the `DiffractionPatternIndexer` to encode diffraction patterns into a latent space and retrieve their crystallographic orientations. The indexer uses a combination of:\n",
    "\n",
    "1. A variational autoencoder (VAE) model to encode patterns into a latent representation\n",
    "2. A vector database (ChromaDB) to efficiently store and retrieve latent vectors and their orientations"
   ]
  },
  {
   "cell_type": "markdown",
   "metadata": {},
   "source": [
    "## Setup\n",
    "\n",
    "First, let's load the necessary modules and configure auto-reloading for code changes."
   ]
  },
  {
   "cell_type": "code",
   "execution_count": 6,
   "metadata": {},
   "outputs": [
    {
     "name": "stdout",
     "output_type": "stream",
     "text": [
      "The autoreload extension is already loaded. To reload it, use:\n",
      "  %reload_ext autoreload\n"
     ]
    }
   ],
   "source": [
    "%load_ext autoreload\n",
    "%autoreload 2\n",
    "\n",
    "import numpy as np\n",
    "import matplotlib.pyplot as plt\n",
    "from pathlib import Path\n",
    "import time\n",
    "import torch\n",
    "\n",
    "from latice.index.dp_indexer import DiffractionPatternIndexer, IndexerConfig\n",
    "from latice.index.chroma_db import LatentVectorDatabaseConfig, LatentVectorDatabase\n",
    "from latice.model import VariationalAutoEncoderRawData"
   ]
  },
  {
   "cell_type": "markdown",
   "metadata": {},
   "source": [
    "## Initialise the Indexer\n",
    "\n",
    "Now let's set up the indexer with the VAE model and a ChromaDB vector database. The indexer will automatically:\n",
    "1. Load the diffraction patterns and orientation data\n",
    "2. Encode the patterns into the latent space\n",
    "3. Build a searchable database of latent vectors and their orientations"
   ]
  },
  {
   "cell_type": "code",
   "execution_count": 7,
   "metadata": {},
   "outputs": [],
   "source": [
    "# Latent vector database config\n",
    "collection_name = \"test\"\n",
    "persist_directory = \".chroma_db\"\n",
    "pattern_path = Path(\"../data/sample_pattern.npy\")\n",
    "angles_path = Path(\"../data/anglefile_sample.txt\")\n",
    "dimension = 16\n",
    "device = \"cuda\"\n",
    "\n",
    "# Indexer config\n",
    "model_path = \"../checkpoints/vae-best.pt\"\n",
    "batch_size = 32\n",
    "random_seed = 42\n",
    "image_size = (128, 128)\n",
    "top_n = 10\n",
    "orientation_threshold = 3.0"
   ]
  },
  {
   "cell_type": "code",
   "execution_count": 8,
   "metadata": {},
   "outputs": [
    {
     "name": "stderr",
     "output_type": "stream",
     "text": [
      "2025-04-21 18:31:35,772 - latice.index.chroma_db - INFO - Created persistent ChromaDB at .chroma_db\n",
      "2025-04-21 18:31:35,773 - latice.index.chroma_db - INFO - Retrieved existing collection 'test'\n",
      "2025-04-21 18:31:35,910 - latice.index.dp_indexer - INFO - Using device: cuda\n",
      "2025-04-21 18:31:35,919 - latice.data_module - INFO - Loaded diffraction pattern data from ../data/sample_pattern.npy\n",
      "2025-04-21 18:31:35,920 - latice.data_module - INFO - Dataset initialized with 625 samples\n",
      "2025-04-21 18:31:35,920 - latice.data_module - INFO - Test dataset prepared with 625 samples\n",
      "2025-04-21 18:31:35,920 - latice.index.dp_indexer - INFO - Generating latent vectors from patterns in ../data/sample_pattern.npy\n"
     ]
    },
    {
     "data": {
      "application/vnd.jupyter.widget-view+json": {
       "model_id": "50310b54d4e142beb67798b86250bdfe",
       "version_major": 2,
       "version_minor": 0
      },
      "text/plain": [
       "Output()"
      ]
     },
     "metadata": {},
     "output_type": "display_data"
    },
    {
     "data": {
      "text/html": [
       "<pre style=\"white-space:pre;overflow-x:auto;line-height:normal;font-family:Menlo,'DejaVu Sans Mono',consolas,'Courier New',monospace\"></pre>\n"
      ],
      "text/plain": []
     },
     "metadata": {},
     "output_type": "display_data"
    },
    {
     "name": "stderr",
     "output_type": "stream",
     "text": [
      "2025-04-21 18:31:36,591 - latice.index.dp_indexer - INFO - Adding 625 vectors to database\n",
      "2025-04-21 18:31:36,594 - latice.index.chroma_db - INFO - Adding 625 vectors to collection 'test' in 1 batches\n"
     ]
    },
    {
     "data": {
      "application/vnd.jupyter.widget-view+json": {
       "model_id": "f753a68a412d4fe495f305cf9b35888d",
       "version_major": 2,
       "version_minor": 0
      },
      "text/plain": [
       "Output()"
      ]
     },
     "metadata": {},
     "output_type": "display_data"
    },
    {
     "data": {
      "text/html": [
       "<pre style=\"white-space:pre;overflow-x:auto;line-height:normal;font-family:Menlo,'DejaVu Sans Mono',consolas,'Courier New',monospace\"></pre>\n"
      ],
      "text/plain": []
     },
     "metadata": {},
     "output_type": "display_data"
    },
    {
     "name": "stderr",
     "output_type": "stream",
     "text": [
      "2025-04-21 18:31:36,706 - latice.index.chroma_db - INFO - Successfully added 625 vectors to the database\n"
     ]
    }
   ],
   "source": [
    "# Initialise the vector database\n",
    "db = LatentVectorDatabase(\n",
    "    config=LatentVectorDatabaseConfig(\n",
    "        collection_name=collection_name,\n",
    "        persist_directory=persist_directory,\n",
    "        dimension=dimension,\n",
    "    )\n",
    ")\n",
    "\n",
    "# Initialise the VAE model\n",
    "model = VariationalAutoEncoderRawData()\n",
    "checkpoint = torch.load(model_path, map_location=device)\n",
    "model.load_state_dict(checkpoint)\n",
    "model.eval()\n",
    "\n",
    "# Initialise the indexer\n",
    "indexer = DiffractionPatternIndexer(\n",
    "    model=model,\n",
    "    db=db,\n",
    "    config=IndexerConfig(\n",
    "        pattern_path=pattern_path,\n",
    "        angles_path=angles_path,\n",
    "        batch_size=batch_size,\n",
    "        device=device,\n",
    "        latent_dim=dimension,\n",
    "        random_seed=random_seed,\n",
    "        image_size=image_size,\n",
    "        top_n=top_n,\n",
    "        orientation_threshold=orientation_threshold,\n",
    "    ),\n",
    ")\n",
    "indexer.build_dictionary()"
   ]
  },
  {
   "cell_type": "markdown",
   "metadata": {},
   "source": [
    "## Explore the Data\n",
    "\n",
    "Let's take a look at the diffraction patterns and their orientations:"
   ]
  },
  {
   "cell_type": "code",
   "execution_count": null,
   "metadata": {},
   "outputs": [],
   "source": [
    "# Load a sample batch from the dataloader\n",
    "dataloader = indexer._create_dataloader\n",
    "sample_batch = next(iter(dataloader))\n",
    "patterns, orientations = sample_batch\n",
    "\n",
    "# Display the shape of the data\n",
    "print(f\"Patterns shape: {patterns.shape}\")\n",
    "print(f\"Orientations shape: {orientations.shape}\")\n",
    "\n",
    "# Visualise a few patterns\n",
    "fig, axes = plt.subplots(1, 3, figsize=(15, 5))\n",
    "for i in range(3):\n",
    "    axes[i].imshow(patterns[i].squeeze(), cmap=\"viridis\")\n",
    "    axes[i].set_title(f\"Pattern {i}\\nOrientation: {orientations[i].numpy()}\")\n",
    "    axes[i].axis(\"off\")\n",
    "plt.tight_layout()\n",
    "plt.show()"
   ]
  },
  {
   "cell_type": "markdown",
   "metadata": {},
   "source": [
    "## Indexing Single Patterns\n",
    "\n",
    "Now let's index a single diffraction pattern and examine the results:"
   ]
  },
  {
   "cell_type": "code",
   "execution_count": null,
   "metadata": {},
   "outputs": [],
   "source": [
    "# Load a sample pattern\n",
    "# sample_pattern = np.load(\"../data/N=100_noised.npy\")[50]\n",
    "sample_pattern, angles = indexer._create_dataloader.dataset[0]\n",
    "sample_pattern = sample_pattern.squeeze()\n",
    "\n",
    "# Display the pattern\n",
    "fig, axs = plt.subplots(1, 1, figsize=(6, 6))\n",
    "axs.imshow(sample_pattern, cmap=\"viridis\")\n",
    "axs.set_title(\"Sample Diffraction Pattern\")\n",
    "axs.axis(\"off\")\n",
    "plt.show()\n",
    "\n",
    "# Time the indexing operation\n",
    "start_time = time.time()\n",
    "orientation_result = indexer.index_pattern(\n",
    "    pattern=sample_pattern, top_n=20, orientation_threshold=3.0\n",
    ")\n",
    "end_time = time.time()\n",
    "\n",
    "print(f\"Indexed pattern in {end_time - start_time:.4f} seconds\")\n",
    "print(f\"angles: {angles}\")\n",
    "print(f\"Best orientation: {orientation_result.get_top_n_orientations(10)}\")\n",
    "print(f\"Success: {orientation_result.success}\")"
   ]
  },
  {
   "cell_type": "markdown",
   "metadata": {},
   "source": [
    "## The Latent Space Representation\n",
    "\n",
    "We can also examine the latent vector representation of a pattern:"
   ]
  },
  {
   "cell_type": "code",
   "execution_count": null,
   "metadata": {},
   "outputs": [],
   "source": [
    "# Encode the pattern to get its latent representation\n",
    "latent_vector = indexer.encode_pattern(sample_pattern)\n",
    "print(f\"Latent vector dimension: {latent_vector.shape}\")\n",
    "print(f\"Latent vector: {latent_vector}\")\n",
    "\n",
    "fig, axs = plt.subplots(1, 1, figsize=(12, 4))\n",
    "axs.bar(range(len(latent_vector)), latent_vector)\n",
    "axs.set_xlabel(\"Dimension\")\n",
    "axs.set_ylabel(\"Value\")\n",
    "axs.set_title(\"Latent Vector Representation\")\n",
    "axs.grid(axis=\"y\", alpha=0.3)\n",
    "plt.show()"
   ]
  },
  {
   "cell_type": "markdown",
   "metadata": {},
   "source": [
    "## Batch Processing\n",
    "\n",
    "For efficiency, the indexer also supports batch processing of multiple patterns:"
   ]
  },
  {
   "cell_type": "code",
   "execution_count": null,
   "metadata": {},
   "outputs": [],
   "source": [
    "# Load multiple patterns\n",
    "batch_patterns = np.load(\"../data/sample_pattern.npy\")[:5]\n",
    "\n",
    "# Time batch indexing\n",
    "start_time = time.time()\n",
    "orientation_results = indexer.index_patterns_batch(batch_patterns)\n",
    "end_time = time.time()\n",
    "\n",
    "print(f\"Indexed {len(batch_patterns)} patterns in {end_time - start_time:.4f} seconds\")\n",
    "print(\n",
    "    f\"Average time per pattern: {(end_time - start_time) / len(batch_patterns):.4f} seconds\"\n",
    ")\n",
    "\n",
    "print(\"\\nResults summary:\")\n",
    "for i, result in enumerate(orientation_results):\n",
    "    print(f\"Pattern {i}: {result.mean_orientation} (success: {result.success})\")\n",
    "\n",
    "# Visualise the orientations\n",
    "fig, axes = plt.subplots(2, 3, figsize=(15, 10))\n",
    "axes = axes.flatten()\n",
    "\n",
    "for i in range(5):\n",
    "    axes[i].imshow(batch_patterns[i], cmap=\"viridis\")\n",
    "    axes[i].set_title(\n",
    "        f\"Pattern {i}\\nOrientation: {orientation_results[i].mean_orientation}\"\n",
    "    )\n",
    "    axes[i].axis(\"off\")\n",
    "\n",
    "fig.delaxes(axes[5])\n",
    "plt.tight_layout()\n",
    "plt.show()"
   ]
  }
 ],
 "metadata": {
  "kernelspec": {
   "display_name": "Python 3 (ipykernel)",
   "language": "python",
   "name": "python3"
  },
  "language_info": {
   "codemirror_mode": {
    "name": "ipython",
    "version": 3
   },
   "file_extension": ".py",
   "mimetype": "text/x-python",
   "name": "python",
   "nbconvert_exporter": "python",
   "pygments_lexer": "ipython3",
   "version": "3.11.12"
  }
 },
 "nbformat": 4,
 "nbformat_minor": 4
}

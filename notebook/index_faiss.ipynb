{
 "cells": [
  {
   "cell_type": "code",
   "execution_count": 1,
   "metadata": {},
   "outputs": [],
   "source": [
    "%load_ext autoreload\n",
    "%autoreload 2\n",
    "\n",
    "import numpy as np\n",
    "from pathlib import Path\n",
    "import torch\n",
    "from latice.index.faiss_db import (\n",
    "    FaissLatentVectorDatabase,\n",
    "    FaissLatentVectorDatabaseConfig,\n",
    ")\n",
    "from latice.model import VariationalAutoEncoderRawData\n",
    "from latice.index.dp_indexer import DiffractionPatternIndexer, IndexerConfig\n"
   ]
  },
  {
   "cell_type": "markdown",
   "metadata": {},
   "source": [
    "# Configuration"
   ]
  },
  {
   "cell_type": "code",
   "execution_count": 2,
   "metadata": {},
   "outputs": [],
   "source": [
    "npz_path = \"faiss_index.npz\"\n",
    "pattern_path = Path(\"../data/N=100_noised.npy\")\n",
    "angles_path = Path(\"../data/anglefile_N=100.txt\")\n",
    "dimension = 16\n",
    "device = \"mps\"\n",
    "model_path = \"../checkpoints/vae-best.pt\"\n",
    "batch_size = 32\n",
    "random_seed = 42\n",
    "image_size = (128, 128)\n",
    "top_n = 10\n",
    "orientation_threshold = 3.0"
   ]
  },
  {
   "cell_type": "markdown",
   "metadata": {},
   "source": [
    "# Initialise the FAISS vector database"
   ]
  },
  {
   "cell_type": "code",
   "execution_count": null,
   "metadata": {},
   "outputs": [],
   "source": [
    "faiss_db = FaissLatentVectorDatabase(\n",
    "    config=FaissLatentVectorDatabaseConfig(npz_path=npz_path, dimension=dimension)\n",
    ")"
   ]
  },
  {
   "cell_type": "markdown",
   "metadata": {},
   "source": [
    "# Initialise the VAE model"
   ]
  },
  {
   "cell_type": "code",
   "execution_count": null,
   "metadata": {},
   "outputs": [],
   "source": [
    "model = VariationalAutoEncoderRawData()\n",
    "checkpoint = torch.load(model_path, map_location=device)\n",
    "model.load_state_dict(checkpoint)\n",
    "model.eval()"
   ]
  },
  {
   "cell_type": "markdown",
   "metadata": {},
   "source": [
    "# Initialise the indexer"
   ]
  },
  {
   "cell_type": "code",
   "execution_count": null,
   "metadata": {},
   "outputs": [],
   "source": [
    "indexer = DiffractionPatternIndexer(\n",
    "    model=model,\n",
    "    db=faiss_db,\n",
    "    config=IndexerConfig(\n",
    "        pattern_path=pattern_path,\n",
    "        angles_path=angles_path,\n",
    "        batch_size=batch_size,\n",
    "        device=device,\n",
    "        latent_dim=dimension,\n",
    "        random_seed=random_seed,\n",
    "        image_size=image_size,\n",
    "        top_n=top_n,\n",
    "        orientation_threshold=orientation_threshold,\n",
    "    ),\n",
    ")"
   ]
  },
  {
   "cell_type": "markdown",
   "metadata": {},
   "source": [
    "# Build the FAISS dictionary (index)"
   ]
  },
  {
   "cell_type": "code",
   "execution_count": null,
   "metadata": {},
   "outputs": [],
   "source": [
    "indexer.build_dictionary()"
   ]
  },
  {
   "cell_type": "markdown",
   "metadata": {},
   "source": [
    "# Index a single pattern"
   ]
  },
  {
   "cell_type": "code",
   "execution_count": null,
   "metadata": {},
   "outputs": [],
   "source": [
    "sample_pattern, angles = indexer._create_dataloader.dataset[0]\n",
    "sample_pattern = sample_pattern.squeeze()\n",
    "orientation_result = indexer.index_pattern(\n",
    "    pattern=sample_pattern, top_n=20, orientation_threshold=3.0\n",
    ")\n",
    "print(f\"True angles: {angles}\")\n",
    "print(f\"Best orientation: {orientation_result.get_top_n_orientations(10)}\")\n",
    "print(f\"Success: {orientation_result.success}\")\n"
   ]
  },
  {
   "cell_type": "markdown",
   "metadata": {},
   "source": [
    "# Batch indexing"
   ]
  },
  {
   "cell_type": "code",
   "execution_count": null,
   "metadata": {},
   "outputs": [],
   "source": [
    "batch_patterns = np.load(pattern_path)[:5]\n",
    "orientation_results = indexer.index_patterns_batch(batch_patterns)\n",
    "for i, result in enumerate(orientation_results):\n",
    "    print(f\"Pattern {i}: {result.mean_orientation} (success: {result.success})\")"
   ]
  },
  {
   "cell_type": "code",
   "execution_count": null,
   "metadata": {},
   "outputs": [],
   "source": []
  }
 ],
 "metadata": {
  "kernelspec": {
   "display_name": ".venv",
   "language": "python",
   "name": "python3"
  },
  "language_info": {
   "codemirror_mode": {
    "name": "ipython",
    "version": 3
   },
   "file_extension": ".py",
   "mimetype": "text/x-python",
   "name": "python",
   "nbconvert_exporter": "python",
   "pygments_lexer": "ipython3",
   "version": "3.11.9"
  }
 },
 "nbformat": 4,
 "nbformat_minor": 2
}

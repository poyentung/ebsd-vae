{
 "cells": [
  {
   "cell_type": "code",
   "execution_count": 1,
   "metadata": {},
   "outputs": [
    {
     "name": "stdout",
     "output_type": "stream",
     "text": [
      "/Users/andrewtung/Documents/Github/latice\n"
     ]
    }
   ],
   "source": [
    "%load_ext autoreload\n",
    "%autoreload 2\n",
    "%cd ..\n",
    "\n",
    "import numpy as np\n",
    "from pathlib import Path\n",
    "import torch\n",
    "from latice.index.faiss_db import (\n",
    "    FaissLatentVectorDatabase,\n",
    "    FaissLatentVectorDatabaseConfig,\n",
    ")\n",
    "from latice.model import VariationalAutoEncoderRawData\n",
    "from latice.index.dp_indexer import DiffractionPatternIndexer, IndexerConfig\n"
   ]
  },
  {
   "cell_type": "markdown",
   "metadata": {},
   "source": [
    "# Configuration"
   ]
  },
  {
   "cell_type": "code",
   "execution_count": 3,
   "metadata": {},
   "outputs": [],
   "source": [
    "npz_path = \"faiss_index.npz\"\n",
    "pattern_path = Path(\"data/N=100_noised.npy\")\n",
    "angles_path = Path(\"data/anglefile_N=100.txt\")\n",
    "dimension = 16\n",
    "device = \"mps\"\n",
    "model_path = \"checkpoints/vae-best.pt\"\n",
    "batch_size = 32\n",
    "random_seed = 42\n",
    "image_size = (128, 128)\n",
    "top_n = 1\n",
    "orientation_threshold = 1.0"
   ]
  },
  {
   "cell_type": "markdown",
   "metadata": {},
   "source": [
    "# Initialise the FAISS vector database"
   ]
  },
  {
   "cell_type": "code",
   "execution_count": 4,
   "metadata": {},
   "outputs": [
    {
     "name": "stderr",
     "output_type": "stream",
     "text": [
      "2025-04-27 00:03:43,473 - latice.index.faiss_db - INFO - Index file (faiss_index.index) or orientations file (faiss_index.orient.npz) not found. Creating a new index.\n"
     ]
    }
   ],
   "source": [
    "faiss_db = FaissLatentVectorDatabase(\n",
    "    config=FaissLatentVectorDatabaseConfig(npz_path=npz_path, dimension=dimension)\n",
    ")"
   ]
  },
  {
   "cell_type": "markdown",
   "metadata": {},
   "source": [
    "# Initialise the VAE model"
   ]
  },
  {
   "cell_type": "code",
   "execution_count": 5,
   "metadata": {},
   "outputs": [
    {
     "data": {
      "text/plain": [
       "VariationalAutoEncoderRawData(\n",
       "  (encoder): Sequential(\n",
       "    (0): Sequential(\n",
       "      (0): Conv2d(1, 32, kernel_size=(3, 3), stride=(1, 1), padding=(1, 1))\n",
       "      (1): InstanceNorm2d(32, eps=1e-05, momentum=0.1, affine=False, track_running_stats=False)\n",
       "      (2): LeakyReLU(negative_slope=0.02)\n",
       "    )\n",
       "    (1): Sequential(\n",
       "      (0): Conv2d(32, 32, kernel_size=(3, 3), stride=(1, 1), padding=(1, 1))\n",
       "      (1): InstanceNorm2d(32, eps=1e-05, momentum=0.1, affine=False, track_running_stats=False)\n",
       "      (2): LeakyReLU(negative_slope=0.02)\n",
       "    )\n",
       "    (2): MaxPool2d(kernel_size=2, stride=2, padding=0, dilation=1, ceil_mode=False)\n",
       "    (3): Sequential(\n",
       "      (0): Conv2d(32, 64, kernel_size=(3, 3), stride=(1, 1), padding=(1, 1))\n",
       "      (1): InstanceNorm2d(64, eps=1e-05, momentum=0.1, affine=False, track_running_stats=False)\n",
       "      (2): LeakyReLU(negative_slope=0.02)\n",
       "    )\n",
       "    (4): Sequential(\n",
       "      (0): Conv2d(64, 64, kernel_size=(3, 3), stride=(1, 1), padding=(1, 1))\n",
       "      (1): InstanceNorm2d(64, eps=1e-05, momentum=0.1, affine=False, track_running_stats=False)\n",
       "      (2): LeakyReLU(negative_slope=0.02)\n",
       "    )\n",
       "    (5): MaxPool2d(kernel_size=2, stride=2, padding=0, dilation=1, ceil_mode=False)\n",
       "    (6): Sequential(\n",
       "      (0): Conv2d(64, 128, kernel_size=(3, 3), stride=(1, 1), padding=(1, 1))\n",
       "      (1): InstanceNorm2d(128, eps=1e-05, momentum=0.1, affine=False, track_running_stats=False)\n",
       "      (2): LeakyReLU(negative_slope=0.02)\n",
       "    )\n",
       "    (7): Sequential(\n",
       "      (0): Conv2d(128, 128, kernel_size=(3, 3), stride=(1, 1), padding=(1, 1))\n",
       "      (1): InstanceNorm2d(128, eps=1e-05, momentum=0.1, affine=False, track_running_stats=False)\n",
       "      (2): LeakyReLU(negative_slope=0.02)\n",
       "    )\n",
       "    (8): MaxPool2d(kernel_size=2, stride=2, padding=0, dilation=1, ceil_mode=False)\n",
       "    (9): Sequential(\n",
       "      (0): Conv2d(128, 128, kernel_size=(3, 3), stride=(1, 1), padding=(1, 1))\n",
       "      (1): InstanceNorm2d(128, eps=1e-05, momentum=0.1, affine=False, track_running_stats=False)\n",
       "      (2): LeakyReLU(negative_slope=0.02)\n",
       "    )\n",
       "    (10): Sequential(\n",
       "      (0): Conv2d(128, 128, kernel_size=(3, 3), stride=(1, 1), padding=(1, 1))\n",
       "      (1): InstanceNorm2d(128, eps=1e-05, momentum=0.1, affine=False, track_running_stats=False)\n",
       "      (2): LeakyReLU(negative_slope=0.02)\n",
       "    )\n",
       "    (11): MaxPool2d(kernel_size=2, stride=2, padding=0, dilation=1, ceil_mode=False)\n",
       "    (12): Sequential(\n",
       "      (0): Conv2d(128, 128, kernel_size=(3, 3), stride=(1, 1), padding=(1, 1))\n",
       "      (1): InstanceNorm2d(128, eps=1e-05, momentum=0.1, affine=False, track_running_stats=False)\n",
       "      (2): LeakyReLU(negative_slope=0.02)\n",
       "    )\n",
       "    (13): Sequential(\n",
       "      (0): Conv2d(128, 128, kernel_size=(3, 3), stride=(1, 1), padding=(1, 1))\n",
       "      (1): InstanceNorm2d(128, eps=1e-05, momentum=0.1, affine=False, track_running_stats=False)\n",
       "      (2): LeakyReLU(negative_slope=0.02)\n",
       "    )\n",
       "    (14): MaxPool2d(kernel_size=2, stride=2, padding=0, dilation=1, ceil_mode=False)\n",
       "  )\n",
       "  (mu): Sequential(\n",
       "    (0): Linear(in_features=2048, out_features=16, bias=True)\n",
       "  )\n",
       "  (logvar): Sequential(\n",
       "    (0): Linear(in_features=2048, out_features=16, bias=True)\n",
       "  )\n",
       "  (linear2): Sequential(\n",
       "    (0): Linear(in_features=16, out_features=2048, bias=True)\n",
       "  )\n",
       "  (decoder): Sequential(\n",
       "    (0): UpsamplingNearest2d(scale_factor=2.0, mode='nearest')\n",
       "    (1): Sequential(\n",
       "      (0): ConvTranspose2d(128, 128, kernel_size=(3, 3), stride=(1, 1), padding=(1, 1))\n",
       "      (1): InstanceNorm2d(128, eps=1e-05, momentum=0.1, affine=False, track_running_stats=False)\n",
       "      (2): LeakyReLU(negative_slope=0.02)\n",
       "    )\n",
       "    (2): Sequential(\n",
       "      (0): ConvTranspose2d(128, 128, kernel_size=(3, 3), stride=(1, 1), padding=(1, 1))\n",
       "      (1): InstanceNorm2d(128, eps=1e-05, momentum=0.1, affine=False, track_running_stats=False)\n",
       "      (2): LeakyReLU(negative_slope=0.02)\n",
       "    )\n",
       "    (3): UpsamplingNearest2d(scale_factor=2.0, mode='nearest')\n",
       "    (4): Sequential(\n",
       "      (0): ConvTranspose2d(128, 128, kernel_size=(3, 3), stride=(1, 1), padding=(1, 1))\n",
       "      (1): InstanceNorm2d(128, eps=1e-05, momentum=0.1, affine=False, track_running_stats=False)\n",
       "      (2): LeakyReLU(negative_slope=0.02)\n",
       "    )\n",
       "    (5): Sequential(\n",
       "      (0): ConvTranspose2d(128, 128, kernel_size=(3, 3), stride=(1, 1), padding=(1, 1))\n",
       "      (1): InstanceNorm2d(128, eps=1e-05, momentum=0.1, affine=False, track_running_stats=False)\n",
       "      (2): LeakyReLU(negative_slope=0.02)\n",
       "    )\n",
       "    (6): UpsamplingNearest2d(scale_factor=2.0, mode='nearest')\n",
       "    (7): Sequential(\n",
       "      (0): ConvTranspose2d(128, 128, kernel_size=(3, 3), stride=(1, 1), padding=(1, 1))\n",
       "      (1): InstanceNorm2d(128, eps=1e-05, momentum=0.1, affine=False, track_running_stats=False)\n",
       "      (2): LeakyReLU(negative_slope=0.02)\n",
       "    )\n",
       "    (8): Sequential(\n",
       "      (0): ConvTranspose2d(128, 64, kernel_size=(3, 3), stride=(1, 1), padding=(1, 1))\n",
       "      (1): InstanceNorm2d(64, eps=1e-05, momentum=0.1, affine=False, track_running_stats=False)\n",
       "      (2): LeakyReLU(negative_slope=0.02)\n",
       "    )\n",
       "    (9): UpsamplingNearest2d(scale_factor=2.0, mode='nearest')\n",
       "    (10): Sequential(\n",
       "      (0): ConvTranspose2d(64, 64, kernel_size=(3, 3), stride=(1, 1), padding=(1, 1))\n",
       "      (1): InstanceNorm2d(64, eps=1e-05, momentum=0.1, affine=False, track_running_stats=False)\n",
       "      (2): LeakyReLU(negative_slope=0.02)\n",
       "    )\n",
       "    (11): Sequential(\n",
       "      (0): ConvTranspose2d(64, 32, kernel_size=(3, 3), stride=(1, 1), padding=(1, 1))\n",
       "      (1): InstanceNorm2d(32, eps=1e-05, momentum=0.1, affine=False, track_running_stats=False)\n",
       "      (2): LeakyReLU(negative_slope=0.02)\n",
       "    )\n",
       "    (12): UpsamplingNearest2d(scale_factor=2.0, mode='nearest')\n",
       "    (13): Sequential(\n",
       "      (0): ConvTranspose2d(32, 32, kernel_size=(3, 3), stride=(1, 1), padding=(1, 1))\n",
       "      (1): InstanceNorm2d(32, eps=1e-05, momentum=0.1, affine=False, track_running_stats=False)\n",
       "      (2): LeakyReLU(negative_slope=0.02)\n",
       "    )\n",
       "    (14): Conv2d(32, 1, kernel_size=(3, 3), stride=(1, 1), padding=(1, 1))\n",
       "  )\n",
       ")"
      ]
     },
     "execution_count": 5,
     "metadata": {},
     "output_type": "execute_result"
    }
   ],
   "source": [
    "model = VariationalAutoEncoderRawData()\n",
    "checkpoint = torch.load(model_path, map_location=device)\n",
    "model.load_state_dict(checkpoint)\n",
    "model.eval()"
   ]
  },
  {
   "cell_type": "markdown",
   "metadata": {},
   "source": [
    "# Initialise the indexer"
   ]
  },
  {
   "cell_type": "code",
   "execution_count": 6,
   "metadata": {},
   "outputs": [
    {
     "name": "stderr",
     "output_type": "stream",
     "text": [
      "2025-04-27 00:03:50,381 - latice.index.dp_indexer - INFO - Using device: mps\n"
     ]
    }
   ],
   "source": [
    "indexer = DiffractionPatternIndexer(\n",
    "    model=model,\n",
    "    db=faiss_db,\n",
    "    config=IndexerConfig(\n",
    "        pattern_path=pattern_path,\n",
    "        angles_path=angles_path,\n",
    "        batch_size=batch_size,\n",
    "        device=device,\n",
    "        latent_dim=dimension,\n",
    "        random_seed=random_seed,\n",
    "        image_size=image_size,\n",
    "        top_n=top_n,\n",
    "        orientation_threshold=orientation_threshold,\n",
    "    ),\n",
    ")"
   ]
  },
  {
   "cell_type": "markdown",
   "metadata": {},
   "source": [
    "# Build the FAISS dictionary (index)"
   ]
  },
  {
   "cell_type": "code",
   "execution_count": 7,
   "metadata": {},
   "outputs": [
    {
     "name": "stderr",
     "output_type": "stream",
     "text": [
      "2025-04-27 00:03:58,698 - latice.data_module - INFO - Loaded diffraction pattern data from data/N=100_noised.npy\n",
      "2025-04-27 00:03:59,370 - latice.data_module - INFO - Dataset initialized with 333227 samples\n",
      "2025-04-27 00:03:59,371 - latice.data_module - INFO - Test dataset prepared with 333227 samples\n",
      "2025-04-27 00:03:59,382 - latice.index.dp_indexer - INFO - Generating latent vectors from patterns in data/N=100_noised.npy\n"
     ]
    },
    {
     "data": {
      "application/vnd.jupyter.widget-view+json": {
       "model_id": "f0703b04cdcc472fab3091729ed7d311",
       "version_major": 2,
       "version_minor": 0
      },
      "text/plain": [
       "Output()"
      ]
     },
     "metadata": {},
     "output_type": "display_data"
    },
    {
     "data": {
      "text/html": [
       "<pre style=\"white-space:pre;overflow-x:auto;line-height:normal;font-family:Menlo,'DejaVu Sans Mono',consolas,'Courier New',monospace\"></pre>\n"
      ],
      "text/plain": []
     },
     "metadata": {},
     "output_type": "display_data"
    },
    {
     "name": "stderr",
     "output_type": "stream",
     "text": [
      "2025-04-27 00:14:49,312 - latice.index.dp_indexer - INFO - Adding 333227 vectors to database\n"
     ]
    }
   ],
   "source": [
    "indexer.build_dictionary()"
   ]
  },
  {
   "cell_type": "markdown",
   "metadata": {},
   "source": [
    "# Index a single pattern"
   ]
  },
  {
   "cell_type": "code",
   "execution_count": null,
   "metadata": {},
   "outputs": [],
   "source": [
    "sample_pattern, angles = indexer._create_dataloader.dataset[0]\n",
    "sample_pattern = sample_pattern.squeeze()\n",
    "orientation_result = indexer.index_pattern(\n",
    "    pattern=sample_pattern, top_n=20, orientation_threshold=3.0\n",
    ")\n",
    "print(f\"True angles: {angles}\")\n",
    "print(f\"Best orientation: {orientation_result.get_top_n_orientations(10)}\")\n",
    "print(f\"Success: {orientation_result.success}\")\n"
   ]
  },
  {
   "cell_type": "markdown",
   "metadata": {},
   "source": [
    "# Batch indexing"
   ]
  },
  {
   "cell_type": "code",
   "execution_count": null,
   "metadata": {},
   "outputs": [],
   "source": [
    "batch_patterns = np.load(pattern_path)[:5]\n",
    "orientation_results = indexer.index_patterns_batch(batch_patterns)\n",
    "for i, result in enumerate(orientation_results):\n",
    "    print(f\"Pattern {i}: {result.mean_orientation} (success: {result.success})\")"
   ]
  },
  {
   "cell_type": "code",
   "execution_count": 8,
   "metadata": {},
   "outputs": [
    {
     "data": {
      "application/vnd.jupyter.widget-view+json": {
       "model_id": "9075b33fb5554216b9424f517ff842c5",
       "version_major": 2,
       "version_minor": 0
      },
      "text/plain": [
       "Output()"
      ]
     },
     "metadata": {},
     "output_type": "display_data"
    },
    {
     "data": {
      "text/html": [
       "<pre style=\"white-space:pre;overflow-x:auto;line-height:normal;font-family:Menlo,'DejaVu Sans Mono',consolas,'Courier New',monospace\"></pre>\n"
      ],
      "text/plain": []
     },
     "metadata": {},
     "output_type": "display_data"
    },
    {
     "name": "stdout",
     "output_type": "stream",
     "text": [
      "Indexed 333227 patterns in 0.0125 seconds\n",
      "Average time per pattern: 0.0166 seconds\n",
      "Standard deviation of time per pattern: 0.0874 seconds\n"
     ]
    }
   ],
   "source": [
    "import time\n",
    "from rich.progress import (\n",
    "    Progress,\n",
    "    SpinnerColumn,\n",
    "    TimeElapsedColumn,\n",
    "    BarColumn,\n",
    "    TextColumn,\n",
    ")\n",
    "\n",
    "batch_patterns_np = np.load(pattern_path)\n",
    "num_rows = len(batch_patterns_np)\n",
    "n_samples = 1000\n",
    "random_indices = np.random.choice(num_rows, size=n_samples, replace=False)\n",
    "sampled_arr = batch_patterns_np[random_indices]\n",
    "all_index_times = []\n",
    "\n",
    "with Progress(\n",
    "    SpinnerColumn(),\n",
    "    TextColumn(\"[progress.description]{task.description}\"),\n",
    "    BarColumn(),\n",
    "    TextColumn(\"[progress.percentage]{task.percentage:>3.0f}%\"),\n",
    "    TimeElapsedColumn(),\n",
    ") as progress:\n",
    "    task = progress.add_task(\"[cyan]Indexing patterns...\", total=n_samples)\n",
    "    for i in random_indices:\n",
    "        start_time = time.time()\n",
    "        orientation_results_batch = indexer.index_pattern(\n",
    "            batch_patterns_np[i], top_n=1, orientation_threshold=1.0\n",
    "        )\n",
    "        end_time = time.time()\n",
    "        index_time = end_time - start_time\n",
    "        all_index_times.append(index_time)\n",
    "        progress.update(task, advance=1, time_elapsed=index_time)\n",
    "\n",
    "print(\n",
    "    f\"Indexed {len(batch_patterns_np)} patterns in {end_time - start_time:.4f} seconds\"\n",
    ")\n",
    "mean_index_time = np.mean(all_index_times)\n",
    "std_index_time = np.std(all_index_times)\n",
    "print(f\"Average time per pattern: {mean_index_time:.4f} seconds\")\n",
    "print(f\"Standard deviation of time per pattern: {std_index_time:.4f} seconds\")\n"
   ]
  }
 ],
 "metadata": {
  "kernelspec": {
   "display_name": ".venv",
   "language": "python",
   "name": "python3"
  },
  "language_info": {
   "codemirror_mode": {
    "name": "ipython",
    "version": 3
   },
   "file_extension": ".py",
   "mimetype": "text/x-python",
   "name": "python",
   "nbconvert_exporter": "python",
   "pygments_lexer": "ipython3",
   "version": "3.11.9"
  }
 },
 "nbformat": 4,
 "nbformat_minor": 2
}
